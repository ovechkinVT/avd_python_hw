{
 "cells": [
  {
   "cell_type": "markdown",
   "metadata": {},
   "source": [
    "### Сторонние библиотеки использовать нельзя"
   ]
  },
  {
   "cell_type": "markdown",
   "metadata": {},
   "source": [
    "### Задача 0 [Библиотека] (0.15 балла)  \n",
    "\n",
    "**Условие:** \n",
    "\n",
    "\n",
    "В библиотеке хранятся книги и журналы. У каждой сущности есть общие характеристики, такие как: название, автор, жанр, число страниц, формат страниц, индекс редкости (от 1 до 10) и текст. Также у разных сущностей могут быть свои атрибуты. Хочется все редкие издания (индекс 9 или 10) дополнительно сохранять в некое хранилище (пусть json-файл), а также хочется понимать какую площадь занимает издание, если разложить все его страницы на полу.     \n",
    "\n",
    "\n",
    "**Комментарий:**\n",
    "\n",
    "Это задача с семинара на организацию иерархии классов. Идея в том, что нужно разделять сущности в зависимости от их применения. Например, есть книга как некий абстрактный объект, а есть библиотечная книга, у которой есть свои особенности. Также для сохранения книг в json нужно использвать классы-примеси.\n",
    "\n",
    "\n",
    "Иерархия классов:"
   ]
  },
  {
   "cell_type": "code",
   "execution_count": 2,
   "metadata": {},
   "outputs": [],
   "source": [
    "from datetime import datetime\n",
    "\n",
    "PAGES_FORMAT = {\n",
    "    'A1': (2048, 1024),\n",
    "    'A2': (1024, 512),\n",
    "    'A3': (512, 256),\n",
    "    'A4': (297, 210),\n",
    "}\n",
    "\n",
    "\n",
    "class ReadableEntity:\n",
    "    \n",
    "    instances = list()\n",
    "    \n",
    "    def __init__(self, title, author, genre, num_pages, page_format, rarity_index):\n",
    "        self.title = title\n",
    "        self.author = author\n",
    "        self.genre = genre\n",
    "        self.num_pages = num_pages\n",
    "        self.page_format = page_format\n",
    "        self.rarity_index = rarity_index\n",
    "        self.__class__.instances.append(self)\n",
    "    \n",
    "    @staticmethod\n",
    "    def get_rectangle_square(height, width):\n",
    "        return height*width\n",
    "\n",
    "\n",
    "class Journal(ReadableEntity):\n",
    "    \n",
    "    def __init__(self, issue_number, **kwargs):\n",
    "        super().__init__(**kwargs)\n",
    "        self.issue_number = issue_number\n",
    "        \n",
    "    @property\n",
    "    def square_of_entity(self):\n",
    "        height, width = PAGES_FORMAT[self.page_format.upper()]\n",
    "        return ReadableEntity.get_rectangle_square(height, width)*self.num_pages\n",
    "\n",
    "        \n",
    "class Book(ReadableEntity):\n",
    "    \n",
    "    def __init__(self, publication_year, **kwargs):\n",
    "        super().__init__(**kwargs)\n",
    "        self.publication_year = publication_year\n",
    "\n",
    "    @property\n",
    "    def square_of_entity(self):\n",
    "        height, width = PAGES_FORMAT[self.page_format.upper()]\n",
    "        return ReadableEntity.get_rectangle_square(height, width)*self.num_pages\n",
    "\n",
    "        \n",
    "\n",
    "class Exporter:\n",
    "    \n",
    "    def export_to_txt(self, file_path):\n",
    "        with open(file_path, 'a') as f:\n",
    "            f.write(\"publication add datetime: \"+str(datetime.now())+\"\\n\")\n",
    "            for key in self.__dict__:\n",
    "                f.write(\"{}: {}\".format(key, self.__dict__[key])+\"\\n\")\n",
    "            f.write(\"\\n\")\n",
    "     \n",
    "    \n",
    "class LibraryJournal(Journal, Exporter):\n",
    "    \n",
    "    def __init__(self, rare_publications_file_name, **kwargs):\n",
    "        super().__init__(**kwargs)\n",
    "        \n",
    "        if self.rarity_index > 8:\n",
    "            self.export_to_txt(rare_publications_file_name)\n",
    "\n",
    "\n",
    "class LibraryBook(Book, Exporter):\n",
    "\n",
    "    def __init__(self, rare_publications_file_name, **kwargs):\n",
    "        super().__init__(**kwargs)\n",
    "        \n",
    "        if self.rarity_index > 8:\n",
    "            self.export_to_txt(rare_publications_file_name)\n",
    "            "
   ]
  },
  {
   "cell_type": "code",
   "execution_count": 3,
   "metadata": {},
   "outputs": [],
   "source": [
    "! echo \"\" > rare_publications_file.txt"
   ]
  },
  {
   "cell_type": "code",
   "execution_count": 4,
   "metadata": {},
   "outputs": [],
   "source": [
    "book1 = LibraryBook(title=\"Python для менеджеров\", author=\"me\", genre=\"fantastic\", num_pages=300, \n",
    "                    page_format=\"A4\", rarity_index=3, publication_year=2016,\n",
    "                    rare_publications_file_name=\"rare_publications_file.txt\")\n",
    "\n",
    "book2 = LibraryBook(title=\"Advanced python за неделю\",\n",
    "                    author=\"John\", genre=\"documentation\", num_pages=int(1e5),\n",
    "                    page_format=\"A4\", rarity_index=9, publication_year=1999,\n",
    "                    rare_publications_file_name=\"rare_publications_file.txt\")\n",
    "\n",
    "jour1 = LibraryJournal(title=\"Что делать если тебе нравятся стикеры?\",\n",
    "                       author=\"Коуч\", genre=\"psychology\", num_pages=12,\n",
    "                       page_format=\"A4\", rarity_index=3, issue_number=16,\n",
    "                       rare_publications_file_name=\"rare_publications_file.txt\")\n",
    "\n",
    "jour2 = LibraryJournal(title=\"Учился на программиста а стал Аgile коучем\", \n",
    "                       author=\"Отчисленный c ФКН\", genre=\"failures\", num_pages=10,\n",
    "                       page_format=\"A4\", rarity_index=10, issue_number=93,\n",
    "                       rare_publications_file_name=\"rare_publications_file.txt\")"
   ]
  },
  {
   "cell_type": "code",
   "execution_count": 5,
   "metadata": {},
   "outputs": [
    {
     "name": "stdout",
     "output_type": "stream",
     "text": [
      "Python для менеджеров 18711000\n",
      "Advanced python за неделю 6237000000\n",
      "Что делать если тебе нравятся стикеры? 748440\n",
      "Учился на программиста а стал Аgile коучем 623700\n"
     ]
    }
   ],
   "source": [
    "for publication in ReadableEntity.instances:\n",
    "    print(publication.title, publication.square_of_entity)"
   ]
  },
  {
   "cell_type": "code",
   "execution_count": 6,
   "metadata": {},
   "outputs": [
    {
     "name": "stdout",
     "output_type": "stream",
     "text": [
      "\r\n",
      "publication add datetime: 2019-11-03 11:42:37.083415\r\n",
      "title: Advanced python за неделю\r\n",
      "author: John\r\n",
      "genre: documentation\r\n",
      "num_pages: 100000\r\n",
      "page_format: A4\r\n",
      "rarity_index: 9\r\n",
      "publication_year: 1999\r\n",
      "\r\n",
      "publication add datetime: 2019-11-03 11:42:37.084188\r\n",
      "title: Учился на программиста а стал Аgile коучем\r\n",
      "author: Отчисленный c ФКН\r\n",
      "genre: failures\r\n",
      "num_pages: 10\r\n",
      "page_format: A4\r\n",
      "rarity_index: 10\r\n",
      "issue_number: 93\r\n",
      "\r\n"
     ]
    }
   ],
   "source": [
    "! cat rare_publications_file.txt"
   ]
  },
  {
   "cell_type": "markdown",
   "metadata": {},
   "source": [
    "### Задача 1 [Размер объектов] (0 - 0.15 балла)  \n",
    "\n",
    "**Условие:** \n",
    "\n",
    "Написать функцию получения реального объема занимаемой объектом памяти объектом. \n",
    "\n",
    "\n",
    "1) Для int, str, list, tuple, dict **(0.05 балла)**\n",
    "\n",
    "2) Для всех типов **(+0.1 балла)**\n",
    "\n",
    "\n",
    "**Комментарий:**\n",
    "\n",
    "На занятиях не раз говорилось, что `sys.getsizeof` умеет находить размер простых объектов, но если речь идет об объектах, вроде list, то функция вернет не совсем то, что может ожидать разработчик, потому что список хранит указатели на объекты. \n",
    "\n",
    "*Пример:*\n",
    "```\n",
    "sys.getsizeof([]) == 64\n",
    "sys.getsizeof(['aaaaaaa']) == 72\n",
    "```\n",
    "Но\n",
    "```\n",
    "sys.getsizeof('aaaaaaa') == 56\n",
    "```\n"
   ]
  },
  {
   "cell_type": "code",
   "execution_count": 38,
   "metadata": {},
   "outputs": [],
   "source": [
    "import sys\n",
    "import gc\n",
    "\n",
    "\n",
    "def get_real_object_size(obj, obj_ids=None):\n",
    "    \n",
    "    # не влючать ссылки на классы\n",
    "    if isinstance(obj, type):\n",
    "        return 0\n",
    "    \n",
    "    if obj_ids is None:\n",
    "        obj_ids = set()\n",
    "    \n",
    "    # не считаем один и тот же объект 2 раза\n",
    "    if id(obj) in obj_ids:\n",
    "        return 0\n",
    "    \n",
    "    else:\n",
    "        print(\"include: \", obj)\n",
    "        obj_ids.add(id(obj))\n",
    "        obj_ref = gc.get_referents(obj)\n",
    "\n",
    "        # ссылается ли объект на другие объекты\n",
    "        if len(obj_ref) == 0:\n",
    "            return sys.getsizeof(obj)\n",
    "\n",
    "        else:\n",
    "            ref_size = sum(get_real_object_size(x, obj_ids) for x in obj_ref)\n",
    "            return sys.getsizeof(obj) + ref_size"
   ]
  },
  {
   "cell_type": "code",
   "execution_count": 58,
   "metadata": {},
   "outputs": [
    {
     "name": "stdout",
     "output_type": "stream",
     "text": [
      "include:  ([1, 2], [1, 2], 1, 'sdf')\n",
      "include:  sdf\n",
      "include:  1\n",
      "include:  [1, 2]\n",
      "include:  2\n",
      "Total:  292\n"
     ]
    }
   ],
   "source": [
    "y = list((1, 2))\n",
    "x = tuple((y, y, 1, \"sdf\"))\n",
    "\n",
    "print(\"Total: \", get_real_object_size(x))"
   ]
  },
  {
   "cell_type": "code",
   "execution_count": 59,
   "metadata": {},
   "outputs": [],
   "source": [
    "class TestRefs(list):\n",
    "    \n",
    "    def __init__(self, array):\n",
    "        self.array = array\n",
    "        \n",
    "x = TestRefs([1,1,3])"
   ]
  },
  {
   "cell_type": "code",
   "execution_count": 60,
   "metadata": {},
   "outputs": [
    {
     "name": "stdout",
     "output_type": "stream",
     "text": [
      "include:  []\n",
      "include:  {'array': [1, 1, 3]}\n",
      "include:  [1, 1, 3]\n",
      "include:  3\n",
      "include:  1\n"
     ]
    },
    {
     "data": {
      "text/plain": [
       "336"
      ]
     },
     "execution_count": 60,
     "metadata": {},
     "output_type": "execute_result"
    }
   ],
   "source": [
    "# не включая классы\n",
    "\n",
    "get_real_object_size(x)"
   ]
  },
  {
   "cell_type": "markdown",
   "metadata": {},
   "source": [
    "### Задача 2 [Многочлены] (0.64 балла)\n",
    "\n",
    "**Условие:**\n",
    "\n",
    "Реализовать класс многочлена. Определить операции:\n",
    "\n",
    "1) *сложения* - **(0.02 балла)**\n",
    "\n",
    "2) *вычитания* - **(0.02 балла)**\n",
    "\n",
    "3) *умножения* - **(0.04 балла)**\n",
    "\n",
    "3a) *быстрого умножения* (алгоритм Карацубы или быстрое преобразование Фурье) - **(+0.25 балла)**\n",
    "\n",
    "4) *деления* - **(0.05 балла)**\n",
    "\n",
    "5) *возведения в степень* - **(0.02 балла)** | *возведения в степень* через быстрое возведение в степень за log - **(0.04 балла)**\n",
    "\n",
    "6) *представления многочлена в человеческом виде* - **(0.02 балла)**\n",
    "\n",
    "7) *дифференцирования* - **(0.05 балла)**\n",
    "\n",
    "8) *интегрирования* - **(0.05 балла)**\n",
    "\n",
    "9) Вызова многочлена как функции (вычисление значения в точке) - **(0.03 балла)**\n",
    "\n",
    "**Комментарии:**\n",
    "\n",
    "Для комплексных коэффициентов **(0.01 балла)** к каждому пункту.\n",
    "\n",
    "Операции с числами также должны работать."
   ]
  },
  {
   "cell_type": "code",
   "execution_count": 189,
   "metadata": {},
   "outputs": [],
   "source": [
    "class CoefList(list):\n",
    "    \"\"\" Returns 0 if key greater that array size and can add (subtract) another list.\"\"\"\n",
    "    \n",
    "    def __getitem__(self, key):\n",
    "        \n",
    "        if isinstance(key, slice):\n",
    "            return CoefList(super().__getitem__(key))\n",
    "        \n",
    "        if (key >= self.__len__()) or (-key > self.__len__()):\n",
    "            return 0\n",
    "        else:\n",
    "            return super().__getitem__(key)\n",
    "        \n",
    "    def add_list(self, another):\n",
    "        return CoefList([self[i] + another[i]\n",
    "                for i in range(-max(len(self), len(another)), 0)])\n",
    "    \n",
    "    def sub_list(self, another):\n",
    "        return CoefList([self[i] - another[i]\n",
    "                for i in range(-max(len(self), len(another)), 0)])\n",
    "    \n",
    "    def __add__(self, another):\n",
    "        return CoefList(super().__add__(another))"
   ]
  },
  {
   "cell_type": "code",
   "execution_count": 326,
   "metadata": {},
   "outputs": [],
   "source": [
    "class Polynomial():\n",
    "    \n",
    "    def __init__(self, degree_coefs):\n",
    "        \n",
    "        if not isinstance(degree_coefs, list):\n",
    "            raise TypeError(\"degrees_coefs должен иметь тип list (а не {})\".format(type(degree_coefs)))\n",
    "        \n",
    "        self.degree_coefs = CoefList(degree_coefs)\n",
    "                \n",
    "    def __add__(self, another):\n",
    "        return self.degree_coefs.add_list(another.degree_coefs)\n",
    "    \n",
    "    def __sub__(self, another):\n",
    "        return self.degree_coefs.sub_list(another.degree_coefs)\n",
    "        \n",
    "    \n",
    "    @staticmethod\n",
    "    def karatsuba(x, y):\n",
    "        \"\"\"\n",
    "            Karatsuba Multiplication:\n",
    "\n",
    "            x = x1*B + x0\n",
    "            y = y1*B + y0\n",
    "\n",
    "            z2 = x1*y1\n",
    "            z0 = x0*y0\n",
    "            z1 = (x1+x0)*(y1+y0) - z0 - z2\n",
    "\n",
    "            result = z2*(B**2) + z1*B + z0\n",
    "            \n",
    "        Input:\n",
    "            x, y: CoefList\n",
    "             коэффициенты многочленов\n",
    "        Return:\n",
    "            CoefList, коэффициенты итогового многочлена\n",
    "        \n",
    "        \"\"\"\n",
    "        if not isinstance(x, CoefList):\n",
    "            raise TypeError(\"x должен иметь тип CoefList (а не {})\".format(type(x)))\n",
    "        if not isinstance(y, CoefList):\n",
    "            raise TypeError(\"y должен иметь тип CoefList (а не {})\".format(type(y)))\n",
    "        \n",
    "        if len(x)==1:\n",
    "            return CoefList([x[0]*y[i] for i in range(len(y))])\n",
    "        if len(y)==1:\n",
    "            return CoefList([y[0]*x[i] for i in range(len(x))])\n",
    "        \n",
    "        split_id = min(map(len,[x,y]))//2\n",
    "        x0, x1 = x[-split_id:], x[:-split_id]\n",
    "        y0, y1 = y[-split_id:], y[:-split_id]\n",
    "\n",
    "        z2 = Polynomial.karatsuba(x1, y1)\n",
    "        z0 = Polynomial.karatsuba(x0, y0)\n",
    "        z1 = Polynomial.karatsuba(x1.add_list(x0), y1.add_list(y0))\n",
    "        z1 = z1.sub_list(z2).sub_list(z0)\n",
    "                \n",
    "        z2 = z2 + [0]*(2*split_id)\n",
    "        z1 = z1 + [0]*(split_id)\n",
    "        \n",
    "        \n",
    "        return z2.add_list(z1).add_list(z0)\n",
    "        \n",
    "    def __mul__(self, another):\n",
    "        new_coefs = Polynomial.karatsuba(self.degree_coefs, another.degree_coefs)\n",
    "        return Polynomial(new_coefs)\n",
    "    \n",
    "    def __"
   ]
  },
  {
   "cell_type": "markdown",
   "metadata": {},
   "source": [
    "### сумма, вычитание"
   ]
  },
  {
   "cell_type": "code",
   "execution_count": 327,
   "metadata": {},
   "outputs": [
    {
     "data": {
      "text/plain": [
       "([4, 4, 7, 4], [-4, -2, -1, 4])"
      ]
     },
     "execution_count": 327,
     "metadata": {},
     "output_type": "execute_result"
    }
   ],
   "source": [
    "x = Polynomial([1,3,4])\n",
    "y = Polynomial([4,3,4,0])\n",
    "x+y, x-y"
   ]
  },
  {
   "cell_type": "markdown",
   "metadata": {},
   "source": [
    "### Тест умножения "
   ]
  },
  {
   "cell_type": "code",
   "execution_count": 328,
   "metadata": {},
   "outputs": [
    {
     "data": {
      "text/plain": [
       "[0, 4, 10, 17, 8, 3, 0]"
      ]
     },
     "execution_count": 328,
     "metadata": {},
     "output_type": "execute_result"
    }
   ],
   "source": [
    "import numpy as np\n",
    "\n",
    "def correct_mul(x, y):\n",
    "    x = np.array(x)\n",
    "    y = np.array(y)\n",
    "    \n",
    "    matrix = x[:,None]*y[None,:]\n",
    "    result = list()\n",
    "    \n",
    "    left_border = matrix.shape[0]-1\n",
    "    right_border = matrix.shape[1]\n",
    "    for i in range(-left_border, right_border):\n",
    "        result.append(np.diag(matrix[::-1],i).sum())\n",
    "\n",
    "    return result\n",
    "\n",
    "correct_mul([4,2,1,0], [0,1,2,3])"
   ]
  },
  {
   "cell_type": "code",
   "execution_count": 329,
   "metadata": {},
   "outputs": [
    {
     "name": "stdout",
     "output_type": "stream",
     "text": [
      "----------\n",
      "OK\n",
      "----------\n",
      "OK\n",
      "----------\n",
      "OK\n",
      "----------\n",
      "OK\n",
      "----------\n",
      "OK\n",
      "----------\n",
      "OK\n",
      "----------\n",
      "OK\n",
      "----------\n",
      "OK\n",
      "----------\n",
      "OK\n",
      "----------\n",
      "OK\n",
      "----------\n",
      "OK\n",
      "----------\n",
      "OK\n",
      "----------\n",
      "OK\n",
      "----------\n",
      "OK\n",
      "----------\n",
      "OK\n",
      "----------\n",
      "OK\n",
      "----------\n",
      "OK\n",
      "----------\n",
      "OK\n",
      "----------\n",
      "OK\n",
      "----------\n",
      "OK\n",
      "----------\n",
      "OK\n",
      "----------\n",
      "OK\n",
      "----------\n",
      "OK\n",
      "----------\n",
      "OK\n",
      "----------\n",
      "OK\n",
      "----------\n",
      "OK\n",
      "----------\n",
      "OK\n",
      "----------\n",
      "OK\n",
      "----------\n",
      "OK\n",
      "----------\n",
      "OK\n",
      "----------\n",
      "OK\n",
      "----------\n",
      "OK\n",
      "----------\n",
      "OK\n",
      "----------\n",
      "OK\n",
      "----------\n",
      "OK\n",
      "----------\n",
      "OK\n",
      "----------\n",
      "OK\n",
      "----------\n",
      "OK\n",
      "----------\n",
      "OK\n",
      "----------\n",
      "OK\n",
      "----------\n",
      "OK\n",
      "----------\n",
      "OK\n",
      "----------\n",
      "OK\n",
      "----------\n",
      "OK\n",
      "----------\n",
      "OK\n",
      "----------\n",
      "OK\n",
      "----------\n",
      "OK\n",
      "----------\n",
      "OK\n",
      "----------\n",
      "OK\n",
      "----------\n",
      "OK\n",
      "----------\n",
      "OK\n",
      "----------\n",
      "OK\n",
      "----------\n",
      "OK\n",
      "----------\n",
      "OK\n",
      "----------\n",
      "OK\n",
      "----------\n",
      "OK\n",
      "----------\n",
      "OK\n",
      "----------\n",
      "OK\n",
      "----------\n",
      "OK\n",
      "----------\n",
      "OK\n",
      "----------\n",
      "OK\n",
      "----------\n",
      "OK\n",
      "----------\n",
      "OK\n",
      "----------\n",
      "OK\n",
      "----------\n",
      "OK\n",
      "----------\n",
      "OK\n",
      "----------\n",
      "OK\n",
      "----------\n",
      "OK\n",
      "----------\n",
      "OK\n",
      "----------\n",
      "OK\n",
      "----------\n",
      "OK\n",
      "----------\n",
      "OK\n",
      "----------\n",
      "OK\n",
      "----------\n",
      "OK\n",
      "----------\n",
      "OK\n",
      "----------\n",
      "OK\n",
      "----------\n",
      "OK\n",
      "----------\n",
      "OK\n",
      "----------\n",
      "OK\n",
      "----------\n",
      "OK\n",
      "----------\n",
      "OK\n",
      "----------\n",
      "OK\n",
      "----------\n",
      "OK\n",
      "----------\n",
      "OK\n",
      "----------\n",
      "OK\n",
      "----------\n",
      "OK\n",
      "----------\n",
      "OK\n",
      "----------\n",
      "OK\n",
      "----------\n",
      "OK\n",
      "----------\n",
      "OK\n",
      "----------\n",
      "OK\n",
      "----------\n",
      "OK\n",
      "----------\n",
      "OK\n",
      "----------\n",
      "OK\n",
      "----------\n",
      "OK\n",
      "----------\n",
      "OK\n",
      "----------\n",
      "OK\n",
      "----------\n",
      "OK\n",
      "----------\n",
      "OK\n",
      "----------\n",
      "OK\n"
     ]
    }
   ],
   "source": [
    "for i in range(100):\n",
    "    len_x, len_y = np.random.randint(1,10,2)\n",
    "    x = np.random.randint(0,10, len_x).tolist()\n",
    "    y = np.random.randint(0,10, len_y).tolist()\n",
    "    \n",
    "    res1 = Polynomial.karatsuba(CoefList(x), CoefList(y))\n",
    "    res2 = correct_mul(x, y)\n",
    "    \n",
    "    if res1 == res2:\n",
    "        print(\"-\"*10)\n",
    "        print(\"OK\")\n",
    "    else:\n",
    "        print(\"-\"*10)\n",
    "        print(\"x: \", x)\n",
    "        print(\"y: \", y)\n",
    "        print(res1)\n",
    "        print(res2)"
   ]
  },
  {
   "cell_type": "markdown",
   "metadata": {},
   "source": [
    "### Задача 3 [Аналог range] (0.05 балла)\n",
    "\n",
    "**Условие:**\n",
    "\n",
    "Реализуйте итератор с поведением, аналогичным range."
   ]
  },
  {
   "cell_type": "code",
   "execution_count": 49,
   "metadata": {},
   "outputs": [],
   "source": [
    "def range_like_iterator(n):\n",
    "    i = 0\n",
    "    while i < n:\n",
    "        yield i\n",
    "        i +=1"
   ]
  },
  {
   "cell_type": "code",
   "execution_count": 54,
   "metadata": {},
   "outputs": [
    {
     "data": {
      "text/plain": [
       "[0, 1, 2, 3, 4, 5, 6, 7, 8, 9]"
      ]
     },
     "execution_count": 54,
     "metadata": {},
     "output_type": "execute_result"
    }
   ],
   "source": [
    "list(range_like_iterator(10))"
   ]
  },
  {
   "cell_type": "markdown",
   "metadata": {},
   "source": [
    "### Задача 4 [Primary Key] (0.05 балла)\n",
    "\n",
    "**Условие:**\n",
    "\n",
    "С помощью механизма дескрипторов реализуйте Primary Key - свойства первичного ключа из PostgreSQL."
   ]
  },
  {
   "cell_type": "markdown",
   "metadata": {},
   "source": [
    "### Задача 5 [PositiveSmallIntegerField] (0.03 балла)\n",
    "\n",
    "**Условие:**\n",
    "\n",
    "С помощью механизма дескрипторов реализуйте тип данных PositiveSmallIntegerField - поле, принимающее значения от 0 до 32767."
   ]
  },
  {
   "cell_type": "markdown",
   "metadata": {},
   "source": [
    "### Задача 6 [Timer] (0.02 балла)\n",
    "\n",
    "**Условие:**\n",
    "\n",
    "Реализовать контекстный менеджер, который выводит время, проведенное в нём."
   ]
  },
  {
   "cell_type": "code",
   "execution_count": 45,
   "metadata": {},
   "outputs": [],
   "source": [
    "from datetime import datetime\n",
    "\n",
    "\n",
    "class Timer():\n",
    "    \n",
    "    def __enter__(self):\n",
    "        self.start_time = datetime.now()\n",
    "    \n",
    "    def __exit__(self, exc_type, exc_val, exc_tb):\n",
    "        print(datetime.now() - self.start_time)"
   ]
  },
  {
   "cell_type": "code",
   "execution_count": 48,
   "metadata": {},
   "outputs": [
    {
     "name": "stdout",
     "output_type": "stream",
     "text": [
      "0:00:00.000045\n"
     ]
    }
   ],
   "source": [
    "with Timer() as t:\n",
    "    x = list(range(10))"
   ]
  }
 ],
 "metadata": {
  "kernelspec": {
   "display_name": "Python 3",
   "language": "python",
   "name": "python3"
  },
  "language_info": {
   "codemirror_mode": {
    "name": "ipython",
    "version": 3
   },
   "file_extension": ".py",
   "mimetype": "text/x-python",
   "name": "python",
   "nbconvert_exporter": "python",
   "pygments_lexer": "ipython3",
   "version": "3.7.3"
  }
 },
 "nbformat": 4,
 "nbformat_minor": 2
}
