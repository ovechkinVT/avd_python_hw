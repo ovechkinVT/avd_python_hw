{
 "cells": [
  {
   "cell_type": "markdown",
   "metadata": {},
   "source": [
    "### Домашнее задание №0 [0.2 балла]"
   ]
  },
  {
   "cell_type": "markdown",
   "metadata": {},
   "source": [
    "**Условие**:\n",
    "\n",
    "Функция `delete_zeros_from_array` принимает на вход массив целых чисел из промежутка [0; 5] и удалает из него все _нули_. Алгоритм должен иметь сложность `O(N)`, где N - длина массива, и использовать `O(1)` дополнительной памяти.\n",
    "\n",
    "Построить **графики** зависимости времени работы алгоритма от количества элементов в нем. \n",
    "\n",
    "**Примечания**:\n",
    "\n",
    "1) Для наглядности лучше генерить массивы, в которых количество удаляемых элементов **больше трети** от всех элементов.\n",
    "\n",
    "2) В такой постановке можно проверить, как разработчик выбирает имена переменных и думает ли о функции глобально. Например, следующим вопросом было бы \"А что если хотим удалять единицы?\""
   ]
  },
  {
   "cell_type": "code",
   "execution_count": 3,
   "metadata": {},
   "outputs": [],
   "source": [
    "import numpy as np\n",
    "from functools import partial"
   ]
  },
  {
   "cell_type": "code",
   "execution_count": 4,
   "metadata": {},
   "outputs": [
    {
     "data": {
      "text/plain": [
       "[1, 2, 2, 1, 3, 2]"
      ]
     },
     "execution_count": 4,
     "metadata": {},
     "output_type": "execute_result"
    }
   ],
   "source": [
    "def delete_elements_from_array(array, element):\n",
    "    \"\"\"\n",
    "        This function deletes all elements that equal to element from array. \n",
    "        \n",
    "        :param array: Input array\n",
    "        :type array: list\n",
    "        :param element: Element that must be deleted from array\n",
    "        :type element: int\n",
    "        \n",
    "        :returns: New array without element with the other elements in the same order\n",
    "        :rtype: list\n",
    "    \"\"\"\n",
    "    \n",
    "    size = len(array)\n",
    "    new_size = 0 # new array size\n",
    "    i = 0 # current element\n",
    "    \n",
    "    # move all `element` to the end of the array\n",
    "    while i < len(array)-1:\n",
    "                \n",
    "        if array[i] == element:\n",
    "            \n",
    "            if array[i+1] != element:\n",
    "                \n",
    "                # swap elements and increase new array size\n",
    "                array[new_size], array[i+1] = array[i+1], array[new_size]\n",
    "                new_size += 1\n",
    "\n",
    "        else:\n",
    "            new_size += 1\n",
    "\n",
    "        i += 1\n",
    "    \n",
    "    # drop elements from array\n",
    "    for i in range(size-new_size):\n",
    "        array.pop()\n",
    "        \n",
    "    return array\n",
    "    \n",
    "delete_zeros_from_array = partial(delete_elements_from_array, element=0)\n",
    "new_array = delete_zeros_from_array([1,2,0,2,1,3,0,2])\n",
    "new_array"
   ]
  },
  {
   "cell_type": "code",
   "execution_count": 5,
   "metadata": {},
   "outputs": [
    {
     "data": {
      "text/plain": [
       "[1, 2, 2, 1, 3, 2]"
      ]
     },
     "execution_count": 5,
     "metadata": {},
     "output_type": "execute_result"
    }
   ],
   "source": [
    "# алгоритм, которые точно работает правильно\n",
    "\n",
    "def correct_alg(array, element):\n",
    "    \"\"\" Drop elements from array.\n",
    "    \"\"\"\n",
    "    \n",
    "    new_array = np.array(array)\n",
    "    new_array = new_array[~(new_array==element)]\n",
    "    return new_array.tolist()\n",
    "\n",
    "correct_alg([1,2,0,2,1,3,0,2], element=0)"
   ]
  },
  {
   "cell_type": "code",
   "execution_count": 6,
   "metadata": {},
   "outputs": [
    {
     "name": "stdout",
     "output_type": "stream",
     "text": [
      "OK\n",
      "OK\n",
      "OK\n",
      "OK\n",
      "OK\n",
      "OK\n",
      "OK\n",
      "OK\n",
      "OK\n",
      "OK\n",
      "OK\n",
      "OK\n",
      "OK\n",
      "OK\n",
      "OK\n",
      "OK\n",
      "OK\n",
      "OK\n",
      "OK\n",
      "OK\n"
     ]
    }
   ],
   "source": [
    "# tests\n",
    "import numpy as np\n",
    "\n",
    "for i in range(20):\n",
    "    \n",
    "    # create array and correct_new_array\n",
    "    size = 10\n",
    "    num_elem = 4\n",
    "\n",
    "    # create array with zeros\n",
    "    array = np.random.randint(1, 6, size).tolist()\n",
    "    array = array + [0]*num_elem\n",
    "    np.random.shuffle(array)\n",
    "    \n",
    "    # run delete_zeros_from_array\n",
    "    new_array = delete_zeros_from_array(array)\n",
    "    correct_new_array = correct_alg(array, 0)\n",
    "    \n",
    "    if new_array == correct_new_array:\n",
    "        print(\"OK\")\n",
    "        "
   ]
  },
  {
   "cell_type": "code",
   "execution_count": 10,
   "metadata": {},
   "outputs": [],
   "source": [
    "from datetime import datetime\n",
    "\n",
    "# оценка времени работы\n",
    "delete_zeros_from_array = partial(delete_elements_from_array, element=0)\n",
    "\n",
    "exec_time_array = list()\n",
    "\n",
    "arrays_sizes = range(1000,100000,1000)\n",
    "\n",
    "for size in arrays_sizes:\n",
    "    \n",
    "    num_elem = int(size//3)+1\n",
    "\n",
    "    # create array with zeros\n",
    "    array = np.random.randint(1, 6, size).tolist()\n",
    "    array = array + [0]*num_elem\n",
    "    np.random.shuffle(array)\n",
    "\n",
    "    # exet time\n",
    "    start_time = datetime.now().timestamp()\n",
    "    delete_zeros_from_array(array)\n",
    "    exec_time_array.append(datetime.now().timestamp() - start_time)"
   ]
  },
  {
   "cell_type": "code",
   "execution_count": 11,
   "metadata": {},
   "outputs": [
    {
     "data": {
      "text/plain": [
       "[<matplotlib.lines.Line2D at 0x7f8fdd4f8390>]"
      ]
     },
     "execution_count": 11,
     "metadata": {},
     "output_type": "execute_result"
    },
    {
     "data": {
      "image/png": "[encoded data removed]",
      "text/plain": [
       "<Figure size 432x288 with 1 Axes>"
      ]
     },
     "metadata": {
      "needs_background": "light"
     },
     "output_type": "display_data"
    }
   ],
   "source": [
    "import matplotlib.pyplot as plt\n",
    "\n",
    "plt.plot(arrays_sizes, exec_time_array)"
   ]
  }
 ],
 "metadata": {
  "kernelspec": {
   "display_name": "Python 3",
   "language": "python",
   "name": "python3"
  },
  "language_info": {
   "codemirror_mode": {
    "name": "ipython",
    "version": 3
   },
   "file_extension": ".py",
   "mimetype": "text/x-python",
   "name": "python",
   "nbconvert_exporter": "python",
   "pygments_lexer": "ipython3",
   "version": "3.7.3"
  }
 },
 "nbformat": 4,
 "nbformat_minor": 2
}
