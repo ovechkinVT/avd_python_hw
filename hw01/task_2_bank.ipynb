{
 "cells": [
  {
   "cell_type": "markdown",
   "metadata": {},
   "source": [
    "### Домашнее задание №2 [0.18 балла]"
   ]
  },
  {
   "cell_type": "markdown",
   "metadata": {},
   "source": [
    "**Условие**:\n",
    "\n",
    "Вы - банкомат, который работает по следующей схеме: считывает номер вставленной в него карты, парсит его на 4 равные части и генерирует 4 числа Фибоначчи с номерами, соответствущими распаршенным частям. Затем генерирует числа из всевозможных перестановок полученных чисел Фибоначчи (конкатенацией).\n",
    "\n",
    "Для каждого числа из полученного набора банкомат находит НОД с введеным пользователем паролем и возвращает медиану из полученных НОДов. \n",
    "\n",
    "**Комментарии**:\n",
    "\n",
    "1) Поток клиентов большой, операции повторяющиеся - хорошо бы, чтобы со временем банкомат отвечал быстрее на запросы.\n",
    "\n",
    "2) За неполное решение также дается часть баллов.\n",
    "\n",
    "**Ключевые слова**: lru_cache, permutations, алгоритм Евклида"
   ]
  },
  {
   "cell_type": "code",
   "execution_count": 71,
   "metadata": {},
   "outputs": [],
   "source": [
    "from functools import lru_cache\n",
    "from itertools import permutations\n",
    "\n",
    "class CashMachine:\n",
    "    \n",
    "    def __init__(self):\n",
    "        pass\n",
    "    \n",
    "    @staticmethod\n",
    "    @lru_cache(maxsize=2000)\n",
    "    def get_Fibonacci(n):\n",
    "        \"\"\" Функция рассчитывает число фибоначи.\n",
    "        \"\"\"\n",
    "        assert n > 0, ValueError(\"n должно быть >= 0.\")\n",
    "    \n",
    "        if n <= 2:\n",
    "            return n-1\n",
    "\n",
    "        a, b = 0, 1\n",
    "        for i in range(n-2):\n",
    "            a, b = b, a+b\n",
    "\n",
    "        return b\n",
    "        \n",
    "        \n",
    "    @staticmethod\n",
    "    def median(array):\n",
    "        \n",
    "        # get elem counts\n",
    "        el_count = dict()\n",
    "        for el in array:\n",
    "\n",
    "            # count elements:\n",
    "            if not el in el_count:\n",
    "                el_count[el] = 0\n",
    "            el_count[el] += 1\n",
    "\n",
    "        keys_sorted = sorted(el_count.keys())\n",
    "\n",
    "        position = 0\n",
    "        for key in keys_sorted:\n",
    "            position += el_count[key]\n",
    "            if position > len(array)//2:\n",
    "                return key\n",
    "        \n",
    "        \n",
    "    @staticmethod\n",
    "    def gcd(a, b):\n",
    "        assert a >= 0\n",
    "        assert b >= 0\n",
    "            \n",
    "        while b != 0:\n",
    "            a ,b = b, a%b\n",
    "    \n",
    "        return a   \n",
    "    \n",
    "    \n",
    "    def parse_card(self, card_id, password):\n",
    "        \n",
    "        assert isinstance(card_id, str)\n",
    "        assert isinstance(password, int)\n",
    "        \n",
    "        # get Fibonacci numbers\n",
    "        card_parts = list(map(int, card_id.split()))\n",
    "        fibonacci_list = list(map(CashMachine.get_Fibonacci, card_parts))\n",
    "        \n",
    "        \n",
    "        # estimate GCD for different permutations\n",
    "        gcd_list = list()\n",
    "        \n",
    "        for fib_seq in permutations(fibonacci_list):\n",
    "            \n",
    "            fib_seq = map(str, fib_seq)\n",
    "            fib_seq = \"\".join(fib_seq)\n",
    "            fib_seq = int(fib_seq)\n",
    "            \n",
    "            gcd_list.append(CashMachine.gcd(fib_seq, password))\n",
    "        \n",
    "        # find median of GCDs \n",
    "        median = CashMachine.median(gcd_list)\n",
    "        \n",
    "        return median\n",
    "        "
   ]
  },
  {
   "cell_type": "code",
   "execution_count": 72,
   "metadata": {},
   "outputs": [],
   "source": [
    "cm = CashMachine()"
   ]
  },
  {
   "cell_type": "code",
   "execution_count": 76,
   "metadata": {},
   "outputs": [
    {
     "data": {
      "text/plain": [
       "1"
      ]
     },
     "execution_count": 76,
     "metadata": {},
     "output_type": "execute_result"
    }
   ],
   "source": [
    "cm.parse_card(\"2342 5532 3423 2346\", 5234)"
   ]
  }
 ],
 "metadata": {
  "kernelspec": {
   "display_name": "Python 3",
   "language": "python",
   "name": "python3"
  },
  "language_info": {
   "codemirror_mode": {
    "name": "ipython",
    "version": 3
   },
   "file_extension": ".py",
   "mimetype": "text/x-python",
   "name": "python",
   "nbconvert_exporter": "python",
   "pygments_lexer": "ipython3",
   "version": "3.7.3"
  }
 },
 "nbformat": 4,
 "nbformat_minor": 2
}
