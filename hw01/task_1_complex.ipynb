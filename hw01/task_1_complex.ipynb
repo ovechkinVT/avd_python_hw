{
 "cells": [
  {
   "cell_type": "markdown",
   "metadata": {},
   "source": [
    "### Домашнее задание №1 [0.05 балла]\n",
    "\n",
    "**Условие**:\n",
    "\n",
    "Написать функцию (-и), которая принимает на вход 3 комплексных числа и выводит минимальное из них по модулю без использования функций min, max, sort и т.д.\n",
    "\n",
    "\n",
    "**Комментарии**:\n",
    "\n",
    "1) В процессе сдачи задания, можно будет получить дополнительные баллы\n",
    "\n",
    "2) Код должен быть пригоден для промышленного использования"
   ]
  },
  {
   "cell_type": "code",
   "execution_count": 18,
   "metadata": {},
   "outputs": [
    {
     "data": {
      "text/plain": [
       "(1+1j)"
      ]
     },
     "execution_count": 18,
     "metadata": {},
     "output_type": "execute_result"
    }
   ],
   "source": [
    "def min_by_module(numbers):\n",
    "    \n",
    "    assert isinstance(numbers, (list, tuple)),\\\n",
    "        \"numbers должен иметь тип list или tuple, type(numbers): {}\".format(type(numbers))\n",
    "    assert len(numbers) == 3, \"Длина списка должна быть равна 3.\"\n",
    "    \n",
    "    min_elem = numbers[0]\n",
    "    for elem in numbers[1:]:\n",
    "        if abs(elem)<abs(min_elem):\n",
    "            min_elem = elem\n",
    "    \n",
    "    return min_elem\n",
    "\n",
    "min_by_module([complex(1,-4), complex(1,1), complex(2,-1)])"
   ]
  }
 ],
 "metadata": {
  "kernelspec": {
   "display_name": "Python 3",
   "language": "python",
   "name": "python3"
  },
  "language_info": {
   "codemirror_mode": {
    "name": "ipython",
    "version": 3
   },
   "file_extension": ".py",
   "mimetype": "text/x-python",
   "name": "python",
   "nbconvert_exporter": "python",
   "pygments_lexer": "ipython3",
   "version": "3.7.3"
  }
 },
 "nbformat": 4,
 "nbformat_minor": 2
}
